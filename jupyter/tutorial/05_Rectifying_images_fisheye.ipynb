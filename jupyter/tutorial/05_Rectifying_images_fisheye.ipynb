{
 "cells": [
  {
   "cell_type": "markdown",
   "id": "4080056b",
   "metadata": {},
   "source": [
    "# Rectification of distorted images - Fisheye\n",
    "\n",
    "This tutorial shows how to create rectified images from distorted images.\n",
    "Distortion is defined by the camera model (pinhole with lens distortion, or fisheye).\n",
    "\n",
    "Distortion makes that straight lines in 3D are projected as curves in the 2D images.\n",
    "Rectification is the process of compensating the lens effect inversely, so a new image can be built where 3D straight lines are projected straight into the 2D domain."
   ]
  },
  {
   "cell_type": "markdown",
   "id": "e5836836",
   "metadata": {},
   "source": [
    "Let's use the VCD created in the previous tutorial, with calibration information for the 4 Surround View cameras of the Valeo's Woodscape dataset.\n",
    "\n",
    "\n",
    "NOTE: The obtained rectifed views are just \"undistorted\" images, simulating a pinhole camera view with a certain field of view.\n",
    "Next tutorials explore different type of rectifications, more practical for machine learning, such as panoramic views, etc."
   ]
  },
  {
   "cell_type": "code",
   "execution_count": null,
   "id": "8a28875f",
   "metadata": {},
   "outputs": [],
   "source": [
    "import numpy as np\n",
    "import json\n",
    "import cv2\n",
    "from matplotlib import pyplot as plt\n",
    "from PIL import Image\n",
    "\n",
    "from vcd import utils, core, types, scl, draw"
   ]
  },
  {
   "cell_type": "code",
   "execution_count": null,
   "id": "5b6ccc9e",
   "metadata": {},
   "outputs": [],
   "source": [
    "vcd = core.VCD(\"../data/vcd431_woodscape_samples.json\")"
   ]
  },
  {
   "cell_type": "markdown",
   "id": "0257fa12",
   "metadata": {},
   "source": [
    "Let's load the images and create a rectification using VCD."
   ]
  },
  {
   "cell_type": "code",
   "execution_count": null,
   "id": "ae383f4c",
   "metadata": {},
   "outputs": [],
   "source": [
    "# Read the images\n",
    "img_fv = cv2.imread('../data/Woodscape/00000_FV.png')\n",
    "img_rv = cv2.imread('../data/Woodscape/00086_RV.png')\n",
    "img_mvl = cv2.imread('../data/Woodscape/00141_MVL.png')\n",
    "img_mvr = cv2.imread('../data/Woodscape/00096_MVR.png')"
   ]
  },
  {
   "cell_type": "code",
   "execution_count": null,
   "id": "94907349",
   "metadata": {},
   "outputs": [],
   "source": [
    "# Create scene object, which reads VCD and has functions to convert data\n",
    "scene = scl.Scene(vcd)\n",
    "\n",
    "cam_fv = scene.get_camera('FV')\n",
    "cam_rv = scene.get_camera('RV')\n",
    "cam_mvl = scene.get_camera('MVL')\n",
    "cam_mvr = scene.get_camera('MVR')"
   ]
  },
  {
   "cell_type": "code",
   "execution_count": null,
   "id": "fcd38fc5",
   "metadata": {},
   "outputs": [],
   "source": [
    "# Compute the undistorted images \n",
    "# NOTE: each call may take ~7 seconds, because the first call to any camera is used to compute the maps)\n",
    "# subsequent calls with other images would be faster\n",
    "img_fv_und = cam_fv.undistort_image(img_fv)\n",
    "Image.fromarray(cv2.cvtColor(img_fv_und, cv2.COLOR_BGR2RGB))"
   ]
  },
  {
   "cell_type": "code",
   "execution_count": null,
   "id": "62f13c7c",
   "metadata": {},
   "outputs": [],
   "source": [
    "img_rv_und = cam_rv.undistort_image(img_rv)\n",
    "Image.fromarray(cv2.cvtColor(img_rv_und, cv2.COLOR_BGR2RGB))"
   ]
  },
  {
   "cell_type": "code",
   "execution_count": null,
   "id": "5f7cae4b",
   "metadata": {},
   "outputs": [],
   "source": [
    "img_mvl_und = cam_mvl.undistort_image(img_mvl)\n",
    "Image.fromarray(cv2.cvtColor(img_mvl_und, cv2.COLOR_BGR2RGB))"
   ]
  },
  {
   "cell_type": "code",
   "execution_count": null,
   "id": "c129604b",
   "metadata": {},
   "outputs": [],
   "source": [
    "img_mvr_und = cam_mvr.undistort_image(img_mvr)\n",
    "Image.fromarray(cv2.cvtColor(img_mvr_und, cv2.COLOR_BGR2RGB))"
   ]
  },
  {
   "cell_type": "code",
   "execution_count": null,
   "id": "72649f35",
   "metadata": {},
   "outputs": [],
   "source": []
  },
  {
   "cell_type": "code",
   "execution_count": null,
   "id": "1752ff61",
   "metadata": {},
   "outputs": [],
   "source": []
  }
 ],
 "metadata": {
  "kernelspec": {
   "display_name": "Python 3",
   "language": "python",
   "name": "python3"
  },
  "language_info": {
   "codemirror_mode": {
    "name": "ipython",
    "version": 3
   },
   "file_extension": ".py",
   "mimetype": "text/x-python",
   "name": "python",
   "nbconvert_exporter": "python",
   "pygments_lexer": "ipython3",
   "version": "3.8.8"
  }
 },
 "nbformat": 4,
 "nbformat_minor": 5
}
