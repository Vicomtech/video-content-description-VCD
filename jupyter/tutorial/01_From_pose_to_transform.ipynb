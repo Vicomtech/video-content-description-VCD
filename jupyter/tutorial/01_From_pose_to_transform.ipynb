{
 "cells": [
  {
   "cell_type": "markdown",
   "id": "581cfd37",
   "metadata": {},
   "source": [
    "# Poses and transforms (homogeneous coordinates)\n",
    "## Pose from passive rotation\n",
    "\n",
    "This notebook explains how passive rotations are built, how to create poses of coordinates systems, and then how to convert points from one coordinate system to another."
   ]
  },
  {
   "cell_type": "code",
   "execution_count": null,
   "id": "81ab8d73",
   "metadata": {},
   "outputs": [],
   "source": [
    "%matplotlib notebook"
   ]
  },
  {
   "cell_type": "code",
   "execution_count": null,
   "id": "64c20a7e",
   "metadata": {},
   "outputs": [],
   "source": [
    "import numpy as np\n",
    "import matplotlib.pyplot as plt\n",
    "from vcd import utils\n",
    "\n",
    "def plot_cs(pose_wrt_ref, name, L=1):\n",
    "    # Explore the coordinate systems defined for this scene\n",
    "    axis = np.array([[0, L, 0, 0, 0, 0],\n",
    "            [0, 0, 0, L, 0, 0],\n",
    "            [0, 0, 0, 0, 0, L],\n",
    "            [1, 1, 1, 1, 1, 1]])  # matrix with several 4x1 points\n",
    "    pose_wrt_ref = np.array(pose_wrt_ref).reshape(4, 4)\n",
    "    axis_ref = pose_wrt_ref.dot(axis)\n",
    "    origin = axis_ref[:, 0]\n",
    "    x_axis_end = axis_ref[:, 1]\n",
    "    y_axis_end = axis_ref[:, 3]\n",
    "    z_axis_end = axis_ref[:, 5]\n",
    "    ax.plot([origin[0], x_axis_end[0]], [origin[1], x_axis_end[1]], [origin[2], x_axis_end[2]], 'r-')\n",
    "    ax.plot([origin[0], y_axis_end[0]], [origin[1], y_axis_end[1]], [origin[2], y_axis_end[2]], 'g-')\n",
    "    ax.plot([origin[0], z_axis_end[0]], [origin[1], z_axis_end[1]], [origin[2], z_axis_end[2]], 'b-')\n",
    "\n",
    "    ax.text(origin[0], origin[1], origin[2], r'{}'.format(name))\n",
    "    ax.text(x_axis_end[0], x_axis_end[1], x_axis_end[2], 'X')\n",
    "    ax.text(y_axis_end[0], y_axis_end[1], y_axis_end[2], 'Y')\n",
    "    ax.text(z_axis_end[0], z_axis_end[1], z_axis_end[2], 'Z')\n"
   ]
  },
  {
   "cell_type": "markdown",
   "id": "7fb713eb",
   "metadata": {},
   "source": [
    "Poses are 4x4 matrics that encode a \"passive\" rotation and traslation of a coordinate system with respect to another.\n",
    "For example, let's think about the Vehicle Coordinate System (VCS), aka Local Coordinate System (LCS), with x-front, y-left, z-up, centered at the rear-axle projected to the ground.\n",
    "\n",
    "Now let's think of a camera at the front of the vehicle (FV, front-view). The camera center has a certain \"position\" expressed with respect to the LCS"
   ]
  },
  {
   "cell_type": "code",
   "execution_count": null,
   "id": "f71d5538",
   "metadata": {},
   "outputs": [],
   "source": [
    "# C stands for \"Center\" or origin of the coordinate system, fv = front-view, wrt = with respect to, lcs = local cs\n",
    "C_fv_wrt_lcs = np.array([[2.5], [0.0], [0.5]]) # 2.5 meters in front, 0.0 aligned with the vehicle axis, and 0.5 m height "
   ]
  },
  {
   "cell_type": "markdown",
   "id": "229f728d",
   "metadata": {},
   "source": [
    "So far the camera keeps the LCS rotation, i.e. x-front, y-left, z-up\n",
    "\n",
    "### Euler angles and passive rotations\n",
    "If the camera is slightly pitched so it does focus on the road and not the sky, then, we can imagine that it rotates on the y-axis by 15º degrees, so the x-axis no longer points to the horizon but to a certain distance in the ground plane.\n",
    "\n",
    "This rotation can be encoded with Euler angles applied in a certain order.\n",
    "Right-handed rotations are defined as:\n",
    "\n",
    "$$\n",
    "Rx(\\alpha) = \\begin{pmatrix}1 & 0 & 0\\\\ 0 & cos(\\alpha) & -sin(\\alpha)\\\\ 0 & sin(\\alpha) & cos(\\alpha)\\end{pmatrix}, Ry(\\beta) = \\begin{pmatrix}cos(\\beta) & 0 & sin(\\beta)\\\\ 0 & 1 & 0\\\\ -sin(\\beta) & 0 & cos(\\beta)\\end{pmatrix}, Rz(\\gamma) = \\begin{pmatrix}cos(\\gamma) & -sin(\\gamma) & 0\\\\ sin(\\gamma) & cos(\\gamma) & 0\\\\ 0 & 0 & 1\\end{pmatrix}\n",
    "$$\n",
    "\n",
    "Rotation matrices can be built with different sequences of 3 rotations about X, Y and Z axes. For instance proper Euler angles, ZXZ, or improper Euler (three different rotation axes) ZYX. Note that ZYX means, first Z, then Y then X.\n",
    "\n",
    "Active rotations, i.e. rotations that move a physical object, are built right-multiplication, for instance for ZYX, $R=RxRyRz$, because Rz is applied first, then Ry, then Rx.\n",
    "Passive rotations, i.e. rotations that define the rotation of a coordinate system with respect to another, is defined inversely. For instance, to apply ZYX order, $R=RzRyRx$."
   ]
  },
  {
   "cell_type": "code",
   "execution_count": null,
   "id": "57d69d09",
   "metadata": {},
   "outputs": [],
   "source": [
    "rz = (0 * np.pi) / 180.0  # yaw\n",
    "ry = (15 * np.pi) / 180.0  # pitch\n",
    "rx = (0 * np.pi) / 180.0  # roll\n",
    "R_fv_wrt_lcs = utils.euler2R([rz, ry, rx], seq=utils.EulerSeq.ZYX)"
   ]
  },
  {
   "cell_type": "markdown",
   "id": "fa9d4291",
   "metadata": {},
   "source": [
    "The \"pose\" of the camera FV is then composed with the rotation and position matrices"
   ]
  },
  {
   "cell_type": "code",
   "execution_count": null,
   "id": "314b4e23",
   "metadata": {},
   "outputs": [],
   "source": [
    "P_fv_wrt_lcs = utils.create_pose(R_fv_wrt_lcs, C_fv_wrt_lcs)\n",
    "print(P_fv_wrt_lcs)"
   ]
  },
  {
   "cell_type": "markdown",
   "id": "d17570d9",
   "metadata": {},
   "source": [
    "We can visualize the result"
   ]
  },
  {
   "cell_type": "code",
   "execution_count": null,
   "id": "6a925494",
   "metadata": {},
   "outputs": [],
   "source": [
    "# Visualize\n",
    "fig = plt.figure()\n",
    "ax = fig.add_subplot(projection='3d')\n",
    "\n",
    "# Let's plot the Vehicle coordinate system\n",
    "P_lcs_wrt_lcs = np.array([[1.0, 0.0, 0.0, 0.0],[0.0, 1.0, 0.0, 0.0], [0.0, 0.0, 1.0, 0.0], [0.0, 0.0, 0.0, 1.0]]) \n",
    "plot_cs(P_lcs_wrt_lcs, 'lcs', L=2)\n",
    "plot_cs(P_fv_wrt_lcs, 'fv', L=1)\n",
    "\n",
    "ax.set_xlim(-3, 3)\n",
    "ax.set_ylim(-3, 3)\n",
    "ax.set_zlim(0, 6)\n",
    "ax.set_xlabel('X')\n",
    "ax.set_ylabel('Y')\n",
    "ax.set_zlabel('Z')"
   ]
  },
  {
   "cell_type": "markdown",
   "id": "1d04439e",
   "metadata": {},
   "source": [
    "The same goes for other cameras. For instance, the rear view (RV) is equally pitched, but it also has yaw, so it points backward"
   ]
  },
  {
   "cell_type": "code",
   "execution_count": null,
   "id": "bb7abecc",
   "metadata": {},
   "outputs": [],
   "source": [
    "C_rv_wrt_lcs = np.array([[-0.5], [0.0], [0.5]])\n",
    "rz = (180 * np.pi) / 180.0  # yaw\n",
    "ry = (15 * np.pi) / 180.0  # pitch\n",
    "rx = (0 * np.pi) / 180.0  # roll\n",
    "R_rv_wrt_lcs = utils.euler2R([rz, ry, rx], seq=utils.EulerSeq.ZYX)\n",
    "P_rv_wrt_lcs = utils.create_pose(R_rv_wrt_lcs, C_rv_wrt_lcs)\n",
    "print(P_rv_wrt_lcs)"
   ]
  },
  {
   "cell_type": "code",
   "execution_count": null,
   "id": "02d5b4d9",
   "metadata": {},
   "outputs": [],
   "source": [
    "# Visualize\n",
    "fig = plt.figure()\n",
    "ax = fig.add_subplot(projection='3d')\n",
    "\n",
    "# Let's plot the Vehicle coordinate system\n",
    "P_lcs_wrt_lcs = np.array([[1.0, 0.0, 0.0, 0.0],[0.0, 1.0, 0.0, 0.0], [0.0, 0.0, 1.0, 0.0], [0.0, 0.0, 0.0, 1.0]]) \n",
    "plot_cs(P_lcs_wrt_lcs, 'lcs', L=2)\n",
    "plot_cs(P_fv_wrt_lcs, 'fv', L=1)\n",
    "plot_cs(P_rv_wrt_lcs, 'rv', L=1)\n",
    "\n",
    "ax.set_xlim(-3, 3)\n",
    "ax.set_ylim(-3, 3)\n",
    "ax.set_zlim(0, 6)\n",
    "ax.set_xlabel('X')\n",
    "ax.set_ylabel('Y')\n",
    "ax.set_zlabel('Z')"
   ]
  },
  {
   "cell_type": "markdown",
   "id": "29257804",
   "metadata": {},
   "source": [
    "### Transforms from Poses\n",
    "Now, let's consider a point in 3D space, $\\mathbf{X}$. In homogeneous coordinates it is a 4x1 vector.\n",
    "If the point is expressed in the LCS coordinate system, $\\mathbf{X}_{lcs}$, then we can also represent it with its coordinate values with respect to the cameras if we apply the transform using the pose.\n",
    "\n",
    "Note that the Pose encodes the following transform:\n",
    "$T_\\text{fv_to_lcs} = P_\\text{fv_to_lcs}$\n",
    "\n",
    "Therefore, to transform FROM LCS to FV, we have to apply the inverse:\n",
    "$$\n",
    "T_\\text{lcs_to_fv} = (P_\\text{fv_to_lcs})^{-1}\n",
    "$$\n",
    "\n",
    "And therefore\n",
    "$$\n",
    "\\mathbf{X}_\\text{fv} = T_\\text{lcs_to_fv} \\mathbf{X}_\\text{lcs}\n",
    "$$\n",
    "\n",
    "These equations hold true as long as the rotation $R_\\text{fv_wrt_lcs}$ is created as a passive rotation, i.e. the rotation matrix is computed from Euler angles with right-handed signs for $R_x$, $R_y$, $R_z$ matrices, and the order of matrix multiplication is inverse to the intuitive order of angle rotation of the coordinate systems.\n",
    "i.e. in this example, the RV pose is obtained by first applying 180º yaw (so it points backwards) and then 15º pitch (so it points to the ground). The rotation matrix is built as $R=R_z(\\text{yaw})R_y(\\text{pitch})R_x(\\text{roll})$. Note that the order of matrix multiplication is $R_x$ first, then $R_y$, then $R_z$, exactly the inverse to the intuitive order.\n",
    "\n",
    "Let's try it.\n",
    "Let's create some points in front of the FV, at the ground:\n"
   ]
  },
  {
   "cell_type": "code",
   "execution_count": null,
   "id": "ac0f8caa",
   "metadata": {},
   "outputs": [],
   "source": [
    "step_x = 1.0\n",
    "step_y = 1.0\n",
    "x_min = 5\n",
    "x_max = 10\n",
    "y_min = -3\n",
    "y_max = 3\n",
    "num_points_x = int((x_max - x_min)/step_x)\n",
    "num_points_y = int((y_max - y_min)/step_y)\n",
    "xm, ym, zm = utils.generate_grid(x_params=(x_min, x_max, num_points_x + 1), y_params=(y_min, y_max, num_points_y+1), z_params=(0, 0, 1))\n",
    "points3d_4xN = utils.grid_as_4xN_points3d(xm, ym, zm)"
   ]
  },
  {
   "cell_type": "code",
   "execution_count": null,
   "id": "4916e394",
   "metadata": {},
   "outputs": [],
   "source": [
    "#Transform from LCS to FV:\n",
    "T_lcs_to_fv = utils.inv(P_fv_wrt_lcs)\n",
    "points3d_4xN_fv = T_lcs_to_fv @ points3d_4xN"
   ]
  },
  {
   "cell_type": "code",
   "execution_count": null,
   "id": "e4c8443e",
   "metadata": {},
   "outputs": [],
   "source": [
    "# Visualize\n",
    "fig = plt.figure()\n",
    "ax = fig.add_subplot(projection='3d')\n",
    "\n",
    "# Let's plot the Vehicle coordinate system\n",
    "P_lcs_wrt_lcs = np.array([[1.0, 0.0, 0.0, 0.0],[0.0, 1.0, 0.0, 0.0], [0.0, 0.0, 1.0, 0.0], [0.0, 0.0, 0.0, 1.0]]) \n",
    "plot_cs(P_lcs_wrt_lcs, 'lcs', L=2)\n",
    "plot_cs(P_fv_wrt_lcs, 'fv', L=1)\n",
    "plot_cs(P_rv_wrt_lcs, 'rv', L=1)\n",
    "\n",
    "# Plot the LCS points\n",
    "ax.scatter(xm, ym, zm)\n",
    "\n",
    "ax.set_xlim(0, 15)\n",
    "ax.set_ylim(-6, 6)\n",
    "ax.set_zlim(0, 6)\n",
    "ax.set_xlabel('X')\n",
    "ax.set_ylabel('Y')\n",
    "ax.set_zlabel('Z')"
   ]
  },
  {
   "cell_type": "markdown",
   "id": "df223e2c",
   "metadata": {},
   "source": [
    "If we plot the points with respect to the FV, we can see the pitch angle affecting the view of the plane"
   ]
  },
  {
   "cell_type": "code",
   "execution_count": null,
   "id": "a93324d1",
   "metadata": {},
   "outputs": [],
   "source": [
    "# Visualize\n",
    "fig = plt.figure()\n",
    "ax = fig.add_subplot(projection='3d')\n",
    "\n",
    "# Let's plot the Vehicle coordinate system\n",
    "P_fv_wrt_fv = np.array([[1.0, 0.0, 0.0, 0.0],[0.0, 1.0, 0.0, 0.0], [0.0, 0.0, 1.0, 0.0], [0.0, 0.0, 0.0, 1.0]]) \n",
    "plot_cs(P_fv_wrt_fv, 'fv', L=2)\n",
    "\n",
    "# Plot3d the points\n",
    "ax.plot3D(points3d_4xN_fv[0,:], points3d_4xN_fv[1,:], points3d_4xN_fv[2,:], '.r')\n",
    "\n",
    "ax.set_xlim(0, 15)\n",
    "ax.set_ylim(-6, 6)\n",
    "ax.set_zlim(0, 6)\n",
    "ax.set_xlabel('X')\n",
    "ax.set_ylabel('Y')\n",
    "ax.set_zlabel('Z')"
   ]
  },
  {
   "cell_type": "code",
   "execution_count": null,
   "id": "5a052257",
   "metadata": {},
   "outputs": [],
   "source": []
  }
 ],
 "metadata": {
  "kernelspec": {
   "display_name": "Python 3",
   "language": "python",
   "name": "python3"
  },
  "language_info": {
   "codemirror_mode": {
    "name": "ipython",
    "version": 3
   },
   "file_extension": ".py",
   "mimetype": "text/x-python",
   "name": "python",
   "nbconvert_exporter": "python",
   "pygments_lexer": "ipython3",
   "version": "3.8.8"
  }
 },
 "nbformat": 4,
 "nbformat_minor": 5
}
