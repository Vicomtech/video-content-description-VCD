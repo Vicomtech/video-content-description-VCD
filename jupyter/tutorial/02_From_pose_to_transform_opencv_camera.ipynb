{
 "cells": [
  {
   "cell_type": "markdown",
   "id": "eb1f6eb4",
   "metadata": {},
   "source": [
    "# Poses and transforms (homogeneous coordinates)\n",
    "## Camera sensor\n",
    "\n",
    "This notebook follows the example of passive rotations to create poses as in [From_pose_to_transform](./From_pose_to_transform.ipynb), but with the addition of a transform that rotates the sensor coordinate system so it matches with the usual OpenCV convention (x-right, y-down, z-forward in the optical axis)."
   ]
  },
  {
   "cell_type": "code",
   "execution_count": null,
   "id": "9962dc23",
   "metadata": {},
   "outputs": [],
   "source": [
    "%matplotlib notebook"
   ]
  },
  {
   "cell_type": "code",
   "execution_count": null,
   "id": "4bcb5d72",
   "metadata": {},
   "outputs": [],
   "source": [
    "from PIL import Image\n",
    "import numpy as np\n",
    "import cv2 as cv\n",
    "import matplotlib.pyplot as plt\n",
    "from vcd import utils\n",
    "\n",
    "\n",
    "def plot_cs(pose_wrt_ref, name, L=1):\n",
    "    # Explore the coordinate systems defined for this scene\n",
    "    axis = np.array([[0, L, 0, 0, 0, 0],\n",
    "            [0, 0, 0, L, 0, 0],\n",
    "            [0, 0, 0, 0, 0, L],\n",
    "            [1, 1, 1, 1, 1, 1]])  # matrix with several 4x1 points\n",
    "    pose_wrt_ref = np.array(pose_wrt_ref).reshape(4, 4)\n",
    "    axis_ref = pose_wrt_ref.dot(axis)\n",
    "    origin = axis_ref[:, 0]\n",
    "    x_axis_end = axis_ref[:, 1]\n",
    "    y_axis_end = axis_ref[:, 3]\n",
    "    z_axis_end = axis_ref[:, 5]\n",
    "    ax.plot([origin[0], x_axis_end[0]], [origin[1], x_axis_end[1]], [origin[2], x_axis_end[2]], 'r-')\n",
    "    ax.plot([origin[0], y_axis_end[0]], [origin[1], y_axis_end[1]], [origin[2], y_axis_end[2]], 'g-')\n",
    "    ax.plot([origin[0], z_axis_end[0]], [origin[1], z_axis_end[1]], [origin[2], z_axis_end[2]], 'b-')\n",
    "\n",
    "    ax.text(origin[0], origin[1], origin[2], r'{}'.format(name))\n",
    "    ax.text(x_axis_end[0], x_axis_end[1], x_axis_end[2], 'X')\n",
    "    ax.text(y_axis_end[0], y_axis_end[1], y_axis_end[2], 'Y')\n",
    "    ax.text(z_axis_end[0], z_axis_end[1], z_axis_end[2], 'Z')\n",
    "\n",
    "# Let's deefine the rotation and position of the Sensor Coordinate System SCS (e.g. FV: frontal view)\n",
    "# with respect to the Local Coordinate System LCS (aka Vehicle COordinate System)\n",
    "rz = (5 * np.pi) / 180.0  # yaw\n",
    "ry = (15 * np.pi) / 180.0  # pitch\n",
    "rx = (0 * np.pi) / 180.0  # roll\n",
    "R_fv_wrt_lcs = utils.euler2R([rz, ry, rx], seq=utils.EulerSeq.ZYX)\n",
    "\n",
    "C_fv_wrt_lcs = np.array([[2.5], [0.0], [0.5]])\n",
    "P_fv_wrt_lcs = utils.create_pose(R_fv_wrt_lcs, C_fv_wrt_lcs)\n",
    "\n",
    "T_fv_to_lcs = P_fv_wrt_lcs  # So X_lcs = T_fv_to_lcs * X_fv\n",
    "T_lcs_to_fv = utils.inv(T_fv_to_lcs)  # So X_fv = T_lcs_to_fv * X_lcs (to project a 3D point to the sensor coordinate system)\n",
    "\n",
    "# Visualize\n",
    "fig = plt.figure()\n",
    "ax = fig.add_subplot(projection='3d')\n",
    "\n",
    "# Let's plot the Vehicle coordinate system\n",
    "P_lcs_wrt_lcs = np.array([[1.0, 0.0, 0.0, 0.0],[0.0, 1.0, 0.0, 0.0], [0.0, 0.0, 1.0, 0.0], [0.0, 0.0, 0.0, 1.0]]) \n",
    "plot_cs(P_lcs_wrt_lcs, 'lcs', L=2)\n",
    "plot_cs(P_fv_wrt_lcs, 'fv', L=1)\n",
    "\n",
    "ax.set_xlim(-3, 3)\n",
    "ax.set_ylim(-3, 3)\n",
    "ax.set_zlim(0, 6)\n",
    "ax.set_xlabel('X')\n",
    "ax.set_ylabel('Y')\n",
    "ax.set_zlabel('Z')\n"
   ]
  },
  {
   "cell_type": "markdown",
   "id": "dd725c18",
   "metadata": {},
   "source": [
    "To match the OpenCV convention (the camera coordinate system has x-right, y-down), an additional transformation needs to be applied"
   ]
  },
  {
   "cell_type": "code",
   "execution_count": null,
   "id": "c0528c25",
   "metadata": {},
   "outputs": [],
   "source": [
    "R_opcv_wrt_fv = utils.euler2R([-np.pi/2.0, 0, -np.pi/2.0], seq=utils.EulerSeq.ZYX)\n",
    "\n",
    "# This is post-multiplied, so the rz, ry are applied conceptually against the original LCS system\n",
    "# just like in the example above, and only when the FV is in place, then rotate to match OpenCV system\n",
    "R_opcv_wrt_lcs = R_fv_wrt_lcs @ R_opcv_wrt_fv\n",
    "\n",
    "# If R_fv_wrt_lcs = R_opcv_wrt_fv @ R_fv_wrt_lcs, then rz, ry, rx are conceptually applied against the OpenCV-related coordinates\n",
    "# IT DEPENDS WHAT THE provided (rz, ry, rx) refer to!!\n",
    "\n",
    "P_opcv_wrt_lcs = utils.create_pose(R_opcv_wrt_lcs, C_fv_wrt_lcs)\n",
    "\n",
    "T_opcv_to_lcs = P_opcv_wrt_lcs  # So X_lcs = T_fv_to_lcs * X_fv\n",
    "T_lcs_to_opcv = utils.inv(T_opcv_to_lcs)  # So X_opcv = T_lcs_to_opcv * X_lcs (to project a 3D point to the sensor coordinate system matching OpenCV criteria)\n",
    "\n",
    "\n",
    "# Visualize\n",
    "fig = plt.figure()\n",
    "ax = fig.add_subplot(projection='3d')\n",
    "\n",
    "# Let's plot the Vehicle coordinate system\n",
    "P_lcs_wrt_lcs = np.array([[1.0, 0.0, 0.0, 0.0],[0.0, 1.0, 0.0, 0.0], [0.0, 0.0, 1.0, 0.0], [0.0, 0.0, 0.0, 1.0]]) \n",
    "plot_cs(P_lcs_wrt_lcs, 'lcs', L=2)\n",
    "plot_cs(P_opcv_wrt_lcs, 'opcv', L=1)\n",
    "\n",
    "ax.set_xlim(-2, 2)\n",
    "ax.set_ylim(-2, 2)\n",
    "ax.set_zlim(0, 4)\n",
    "ax.set_xlabel('X')\n",
    "ax.set_ylabel('Y')\n",
    "ax.set_zlabel('Z')"
   ]
  },
  {
   "cell_type": "markdown",
   "id": "8b6a41df",
   "metadata": {},
   "source": [
    "### Projection into image\n",
    "Having the camera coordinate system matching the OpenCV convention simplifies the subsequent projection process from 3D points to 2D space in the image plane.\n",
    "\n",
    "From projective geometry literature we can see the projection of a 3D point $\\mathbf{X}$ expressed in the camera coordinate system (already following x-right, y-down, z-forward convention) into $(u,v)$ pixel positions in the image is:\n",
    "\n",
    "$$\n",
    "(u,v,1)^\\top = K \\mathbf{X}\n",
    "$$\n",
    "\n",
    "Usually K is a $3\\times 3$ matrix as follows:\n",
    "\n",
    "$$\n",
    "K=\\begin{pmatrix}f_x & 0 & c_x\\\\ 0 & f_y & c_y\\\\ 0 & 0 & 1\\end{pmatrix}\n",
    "$$\n",
    "\n",
    "Where $f_x$ and $f_y$ is the focal length at each axis, and $c_x$ and $c_y$ is the principal point of the camera.\n",
    "NOTE: If we haven't converted the camera coordinate system to match this convention, the matrix $K$ would have negative focal lengths and swapped y-z axis which causes confusion and problems with projection SW packages.\n",
    "\n",
    "Let's create a camera calibration matrix and project points:"
   ]
  },
  {
   "cell_type": "code",
   "execution_count": null,
   "id": "95745255",
   "metadata": {},
   "outputs": [],
   "source": [
    "img_width_px = 800\n",
    "img_height_px = 600\n",
    "f_x = 1000\n",
    "f_y = 1000\n",
    "c_x = img_width_px/2\n",
    "c_y = img_height_px/2"
   ]
  },
  {
   "cell_type": "code",
   "execution_count": null,
   "id": "2800adc5",
   "metadata": {},
   "outputs": [],
   "source": [
    "K = np.array([[f_x, 0, c_x, 0], [0, f_y, c_y, 0], [0, 0, 1, 1]])"
   ]
  },
  {
   "cell_type": "markdown",
   "id": "60ea626b",
   "metadata": {},
   "source": [
    "Now let's create some points in LCS, converto to camera coordinate systems, and project"
   ]
  },
  {
   "cell_type": "code",
   "execution_count": null,
   "id": "f1cb2fed",
   "metadata": {},
   "outputs": [],
   "source": [
    "step_x = 0.1\n",
    "step_y = 0.1\n",
    "x_min = 5\n",
    "x_max = 10\n",
    "y_min = -3\n",
    "y_max = 3\n",
    "num_points_x = int((x_max - x_min)/step_x)\n",
    "num_points_y = int((y_max - y_min)/step_y)\n",
    "xm, ym, zm = utils.generate_grid(x_params=(x_min, x_max, num_points_x + 1), y_params=(y_min, y_max, num_points_y+1), z_params=(0, 0, 1))\n",
    "points3d_4xN = utils.grid_as_4xN_points3d(xm, ym, zm)\n",
    "\n",
    "#Transform from LCS to FV:\n",
    "T_lcs_to_fv = utils.inv(P_fv_wrt_lcs)\n",
    "points3d_4xN_opcv = T_lcs_to_opcv @ points3d_4xN\n",
    "\n",
    "# Project\n",
    "points2d_3xN = K @ points3d_4xN_opcv\n",
    "points2d_3xN = points2d_3xN / points2d_3xN[2,:]"
   ]
  },
  {
   "cell_type": "markdown",
   "id": "10f93e7d",
   "metadata": {},
   "source": [
    "Let's draw an image"
   ]
  },
  {
   "cell_type": "code",
   "execution_count": null,
   "id": "753ea229",
   "metadata": {},
   "outputs": [],
   "source": [
    "img = 255 * np.ones((img_height_px, img_width_px, 3), np.uint8)"
   ]
  },
  {
   "cell_type": "code",
   "execution_count": null,
   "id": "f42678a6",
   "metadata": {},
   "outputs": [],
   "source": [
    "rows, cols = points2d_3xN.shape\n",
    "for i in range(0, cols):    \n",
    "    if np.isnan(points2d_3xN[0, i]) or np.isnan(points2d_3xN[1, i]):\n",
    "        continue\n",
    "    cv.circle(img, (utils.round(points2d_3xN[0, i]), utils.round(points2d_3xN[1, i])), 2, (255, 0, 0), -1)\n",
    "\n",
    "ret =cv.rectangle(img, (0, 0), (img_width_px, img_height_px), (0,0,0), 2)"
   ]
  },
  {
   "cell_type": "code",
   "execution_count": null,
   "id": "b5550655",
   "metadata": {},
   "outputs": [],
   "source": [
    "Image.fromarray(img)"
   ]
  },
  {
   "cell_type": "markdown",
   "id": "22278879",
   "metadata": {},
   "source": [
    "Let's see the setup in 3D."
   ]
  },
  {
   "cell_type": "code",
   "execution_count": null,
   "id": "0f2343ab",
   "metadata": {},
   "outputs": [],
   "source": [
    "# Visualize\n",
    "fig = plt.figure()\n",
    "ax = fig.add_subplot(projection='3d')\n",
    "\n",
    "# Let's plot the Vehicle coordinate system\n",
    "P_lcs_wrt_lcs = np.array([[1.0, 0.0, 0.0, 0.0],[0.0, 1.0, 0.0, 0.0], [0.0, 0.0, 1.0, 0.0], [0.0, 0.0, 0.0, 1.0]]) \n",
    "plot_cs(P_lcs_wrt_lcs, 'lcs', L=2)\n",
    "plot_cs(P_opcv_wrt_lcs, 'opcv', L=1)\n",
    "\n",
    "# Plot the LCS points\n",
    "ax.scatter(xm, ym, zm, c='r')\n",
    "\n",
    "ax.set_xlim(0, 15)\n",
    "ax.set_ylim(-6, 6)\n",
    "ax.set_zlim(0, 6)\n",
    "ax.set_xlabel('X')\n",
    "ax.set_ylabel('Y')\n",
    "ax.set_zlabel('Z')"
   ]
  },
  {
   "cell_type": "code",
   "execution_count": null,
   "id": "d797127b",
   "metadata": {},
   "outputs": [],
   "source": []
  }
 ],
 "metadata": {
  "kernelspec": {
   "display_name": "Python 3",
   "language": "python",
   "name": "python3"
  },
  "language_info": {
   "codemirror_mode": {
    "name": "ipython",
    "version": 3
   },
   "file_extension": ".py",
   "mimetype": "text/x-python",
   "name": "python",
   "nbconvert_exporter": "python",
   "pygments_lexer": "ipython3",
   "version": "3.8.8"
  }
 },
 "nbformat": 4,
 "nbformat_minor": 5
}
